{
 "cells": [
  {
   "cell_type": "code",
   "execution_count": 11,
   "metadata": {},
   "outputs": [],
   "source": [
    "import h5py\n",
    "import glob\n",
    "from tqdm import tqdm\n",
    "from mahjong.ReinforcementLearning.experience import ExperienceBuffer\n",
    "from mahjong.models.model import DiscardModel, KongModel, PongModel\n",
    "\n",
    "import torch\n",
    "import torch.nn as nn"
   ]
  },
  {
   "cell_type": "code",
   "execution_count": 2,
   "metadata": {},
   "outputs": [],
   "source": [
    "x, y, discard = ExperienceBuffer().read_experience('experiment_2021_04_06_14_21_07.h5')"
   ]
  },
  {
   "cell_type": "code",
   "execution_count": 3,
   "metadata": {},
   "outputs": [
    {
     "data": {
      "text/plain": [
       "(2978, 195, 34, 1)"
      ]
     },
     "execution_count": 3,
     "metadata": {},
     "output_type": "execute_result"
    }
   ],
   "source": [
    "x.shape"
   ]
  },
  {
   "cell_type": "code",
   "execution_count": 31,
   "metadata": {
    "scrolled": true
   },
   "outputs": [
    {
     "data": {
      "text/plain": [
       "torch.int64"
      ]
     },
     "execution_count": 31,
     "metadata": {},
     "output_type": "execute_result"
    }
   ],
   "source": [
    "torch.tensor(y).dtype"
   ]
  },
  {
   "cell_type": "code",
   "execution_count": 18,
   "metadata": {},
   "outputs": [
    {
     "data": {
      "text/plain": [
       "torch.float32"
      ]
     },
     "execution_count": 18,
     "metadata": {},
     "output_type": "execute_result"
    }
   ],
   "source": [
    "torch.tensor(x).dtype"
   ]
  },
  {
   "cell_type": "markdown",
   "metadata": {},
   "source": [
    "Data processing\n",
    "1. Mulitply the discard by reward\n",
    "2. Remove those record with y = 0"
   ]
  },
  {
   "cell_type": "code",
   "execution_count": 16,
   "metadata": {},
   "outputs": [
    {
     "data": {
      "text/plain": [
       "torch.int64"
      ]
     },
     "execution_count": 16,
     "metadata": {},
     "output_type": "execute_result"
    }
   ],
   "source": [
    "torch.tensor(discard).dtype"
   ]
  },
  {
   "cell_type": "code",
   "execution_count": 41,
   "metadata": {},
   "outputs": [
    {
     "name": "stderr",
     "output_type": "stream",
     "text": [
      "0it [00:00, ?it/s]"
     ]
    },
    {
     "name": "stdout",
     "output_type": "stream",
     "text": [
      "Loaded checkpoint discard-ep17-val_acc_0.7356-val_f1_0.7356.pth\n"
     ]
    },
    {
     "name": "stderr",
     "output_type": "stream",
     "text": [
      "\n"
     ]
    }
   ],
   "source": [
    "import h5py\n",
    "import glob\n",
    "from tqdm import tqdm\n",
    "from mahjong.ReinforcementLearning.experience import ExperienceBuffer\n",
    "from mahjong.models.model import DiscardModel, KongModel, PongModel\n",
    "\n",
    "import torch\n",
    "import torch.nn as nn\n",
    "\n",
    "device = 'cuda' if torch.cuda.is_available() else 'cpu'\n",
    "\n",
    "# Hyper-parameters\n",
    "lr = 0.01\n",
    "discount_factor=0.99\n",
    "epsilon=0.5\n",
    "\n",
    "def get_discounted_reward(r):\n",
    "    discounted_r = (r - r.mean())/(r.std() + 1e-7)\n",
    "    return discounted_r\n",
    "\n",
    "def preprocess_data(s, a, r):\n",
    "    s = torch.tensor(s, dtype=torch.float32, device=device)\n",
    "    a = torch.tensor(a, dtype=torch.long, device=device)\n",
    "    r = torch.tensor(r, dtype=torch.float32, device=device)\n",
    "    discounted_r = get_discounted_reward(r)\n",
    "    return s, a, discounted_r\n",
    "\n",
    "# Training\n",
    "exp_paths = glob.glob('./mahjong/data/*.h5')\n",
    "exp_buffer = ExperienceBuffer()\n",
    "model = DiscardModel(device).model\n",
    "loss_fn = nn.CrossEntropyLoss(reduction='none')\n",
    "optim = torch.optim.Adam(model.parameters(), lr=lr)\n",
    "\n",
    "for exp in tqdm(exp_paths):\n",
    "    states, rewards, actions = exp_buffer.read_experience(exp)\n",
    "    states, actions, rewards = preprocess_data(states, actions, rewards)\n",
    "    action_logits = model(s)\n",
    "    \n",
    "    optim.zero_grad()\n",
    "    loss = rewards * loss_fn(action_logits, self.ep_a)\n",
    "    loss = loss.mean()\n",
    "    loss.backward()\n",
    "    optim.step()"
   ]
  },
  {
   "cell_type": "markdown",
   "metadata": {},
   "source": [
    "1. Load model\n",
    "2. Training using SGD with small lr"
   ]
  },
  {
   "cell_type": "code",
   "execution_count": null,
   "metadata": {},
   "outputs": [],
   "source": []
  }
 ],
 "metadata": {
  "kernelspec": {
   "display_name": "Python 3",
   "language": "python",
   "name": "python3"
  },
  "language_info": {
   "codemirror_mode": {
    "name": "ipython",
    "version": 3
   },
   "file_extension": ".py",
   "mimetype": "text/x-python",
   "name": "python",
   "nbconvert_exporter": "python",
   "pygments_lexer": "ipython3",
   "version": "3.8.3"
  }
 },
 "nbformat": 4,
 "nbformat_minor": 4
}
